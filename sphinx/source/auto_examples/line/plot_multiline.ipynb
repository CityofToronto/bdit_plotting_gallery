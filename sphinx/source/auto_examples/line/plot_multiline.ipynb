{
  "cells": [
    {
      "cell_type": "code",
      "execution_count": null,
      "metadata": {
        "collapsed": false
      },
      "outputs": [],
      "source": [
        "%matplotlib inline"
      ]
    },
    {
      "cell_type": "markdown",
      "metadata": {},
      "source": [
        "\n# Multi-Line Chart\n\nExamples of multi-line chart function `multi_linechart()`. The number\nof lines to be plotted is automatically determined from the columns\nin the input dataframe. Also includes the option to display one or\nmore shaded regions with labels.\n"
      ]
    },
    {
      "cell_type": "code",
      "execution_count": null,
      "metadata": {
        "collapsed": false
      },
      "outputs": [],
      "source": [
        "import matplotlib.pyplot as plt\nimport matplotlib as mpl\nimport pandas as pd\nimport numpy as np\nimport datetime\nimport matplotlib.ticker as ticker\nimport matplotlib.font_manager as font_manager\nimport matplotlib.dates as mdates\nfrom matplotlib.lines import Line2D # for legend\n\nfrom pandas.plotting import register_matplotlib_converters\nregister_matplotlib_converters()"
      ]
    },
    {
      "cell_type": "markdown",
      "metadata": {},
      "source": [
        "## Source Code\n\nSource code for multi-line function.\n\n"
      ]
    },
    {
      "cell_type": "code",
      "execution_count": null,
      "metadata": {
        "collapsed": false
      },
      "outputs": [],
      "source": [
        "def multi_linechart(df_line, sett):\n    '''Creates a line chart of one or more lines.\n\n    Number of lines to plot determined from columns in input dataframe.\n\n \n    ''' \n    df=df_line.copy()\n    \n    # ----------------------------------------------\n    # Setup the figure\n    fig, ax =plt.subplots(1)\n    fig.set_size_inches(18, 5)\n    ax = plt.gca()\n\n    # ----------------------------------------------\n    # Default styling params if not defined in sett\n    if 'body' in sett:\n        dflt={\n            'font-size':(12 if 'font-size' not in sett['body']\n                         else sett['body']['font-size']),\n            'font-family':('sans-serif' if 'font-family' not in sett['body']\n                         else sett['body']['font-family']),\n            'fontfamily-list':(['Libre Franklin', 'DejaVu Sans'] if 'fontfamily-list' \n                          not in sett['body']\n                          else sett['body']['fontfamily-list']),\n            'stroke':('#000000' if 'stroke' not in sett['body']\n                         else sett['body']['stroke']),\n            'stroke-width':(2 if 'stroke-width' not in sett['body']\n                         else sett['body']['stroke-width']),\n            'border':('solid' if 'border' not in sett['body']\n                         else sett['body']['border'])\n        }\n    else:\n        dflt={\n            'font-size':12, 'font-family':'sans-serif',\n            'fontfamily-list':['Libre Franklin', 'DejaVu Sans'],\n            'stroke':'#000000', 'stroke-width':2, 'border':'solid'\n        }\n\n    mpl.rcParams['font.family'] = dflt['font-family']\n    if dflt['font-family']=='sans-serif':\n        mpl.rcParams['font.sans-serif']=dflt['fontfamily-list']\n    \n#     mpl.rcParams.update({\n#         'font.size': dflt['font-size'],\n#         'font.family': dflt['font-family']\n#     })\n    # ----------------------------------------------------------------\n    # WEIRD HACK !!!!!!!!!!!!!!!!!!!!!!!!!!!!!!!!!!!!!!!!!!!!\n    # For some reason, mpl.rcParams needs to be run TWICE before it \n    # actually gets set. So just before calling the function, \n    # make sure you set it again...\n    # ----------------------------------------------------------------\n\n    # ----------------------------------------------\n    # Define line-number-dependent params\n    num_lines=df.shape[1] - 1\n    \n    col_names=['xcol']\n    ymax_array=[]\n    for n in range(num_lines):\n        col_names.append('ycol_' + str(n))\n        ymax_array.append(df.iloc[:,n+1].max())\n        \n    df.columns=col_names\n\n    # ----------------------------------------------\n    # title\n    if 'title' in sett:\n        if 'title_params' in sett:\n            title_size=(\n                dflt['font-size'] if 'font-size' not in \n                sett['title_params']\n                else sett['title_params']['font-size'])\n            loc=('center' if 'loc' not in sett['title_params']\n                 else sett['title_params']['loc'])\n        ax.set_title(sett['title'], fontsize=title_size,  loc=loc)\n\n    # ----------------------------------------------\n    # grid\n    if 'major_grid_on' in sett and sett['major_grid_on']==True:      \n        if 'major_grid' in sett:\n            c=('gray' if 'stroke' not in sett['major_grid']\n               else sett['major_grid']['stroke'])\n            b=('-' if 'border' not in sett['major_grid']\n               else sett['major_grid']['border'])\n        else: \n            c='gray'\n            b='-'\n        plt.grid(b=True, which='major', color=c, linestyle=b)\n    if 'minor_grid_on' in sett and sett['minor_grid_on']==True:      \n        if 'minor_grid' in sett:\n            c=('gray' if 'stroke' not in sett['minor_grid']\n               else sett['minor_grid']['stroke'])\n            b=('-' if 'border' not in sett['minor_grid']\n               else sett['minor_grid']['border'])\n        else: \n            c='gray'\n            b='-'\n        plt.grid(b=True, which='minor', color=c, linestyle=b)\n\n    # ----------------------------------------------\n    # axes (both)\n    mpl.rcParams['axes.linewidth'] = 0.3\n    ticklength=2 if 'ticklength' not in sett else sett['ticklength']\n    tickwidth=1 if 'tickwidth' not in sett else sett['tickwidth']\n    ax.tick_params(width=tickwidth, length=ticklength)\n\n    # y-axis\n    if 'yaxis' in sett:\n        ymin=(0 if 'ymin' not in sett['yaxis']\n              else sett['yaxis']['ymin'])\n        ymax=(np.max(ymax_array)*(1 + 0.1) if 'ymax'\n              not in sett['yaxis']\n              else sett['yaxis']['ymax'])\n        \n        # y-axis label\n        label=('' if 'label' not in sett['yaxis']\n               else sett['yaxis']['label'])\n        labelsize=(dflt['font-size'] if 'labelsize'\n                   not in sett['yaxis']\n                   else sett['yaxis']['labelsize'])\n        plt.ylabel(label, fontsize=labelsize)\n        \n        # Format y-axis tick labels\n        ticklabelsize=(dflt['font-size'] if 'ticklabelsize'\n                  not in sett['yaxis']\n                  else sett['yaxis']['ticklabelsize'])\n        ax.tick_params(axis='y', labelsize=ticklabelsize)\n        \n        # comma format\n        precision=('.0f' if 'precision'\n                   not in sett['yaxis']\n                   else sett['yaxis']['precision'])\n        ax.yaxis.set_major_formatter(\n            mpl.ticker.StrMethodFormatter('{x:,' + precision + '}')\n        )\n    else:\n        ymin=0\n        ymax=np.max(ymax_array)*(1 + 0.1)\n\n    delta = (ymax - ymin)/4\n    i = 0\n    while True:\n        delta /= 10\n        i += 1\n        if delta < 10:\n            break\n    if 'yinc' in sett:\n        yinc=sett['yinc']\n    else:\n        yinc = int(round(delta+1)*pow(10,i))\n                   \n    plt.ylim(top=ymax, bottom=ymin)\n\n    # ----------------------------------------------\n    # x-axis\n    if 'xaxis' in sett:\n        # x-axis label\n        label=('' if 'label' not in sett['xaxis']\n               else sett['xaxis']['label'])\n        labelsize=(dflt['font-size'] if 'labelsize'\n                   not in sett['xaxis']\n                   else sett['xaxis']['labelsize'])\n        plt.xlabel(label, fontsize=labelsize)\n        \n        # x-axis tick labels\n        if 'major_loc' in sett['xaxis']: # x-values are dates  \n            date_form_mjr = sett['xaxis']['major_loc']['date_form']\n            ax.xaxis.set_major_formatter(date_form_mjr)\n        if 'minor_loc' in sett['xaxis']:\n            date_form_mnr = sett['xaxis']['minor_loc']['date_form']\n            ax.xaxis.set_minor_locator(date_form_mnr)\n        \n        # x-axis tick label size\n        ticklabelsize=(dflt['font-size'] if 'ticklabelsize'\n                  not in sett['xaxis']\n                  else sett['xaxis']['ticklabelsize'])\n        ax.tick_params(axis='x', labelsize=ticklabelsize, \n                       labelbottom=True)\n    else:\n        # Default x-axis tick lines\n        ax.tick_params(axis='x', labelsize=dflt['font-size'],\n                       labelbottom=True)\n    \n    # ----------------------------------------------\n    # Plot data and legend\n    if 'legend' in sett:\n        legend_loc=('upper left' if 'loc' not in sett['legend']\n                    else sett['legend']['loc'])\n        leg_array=[]\n        custom_lines=[]\n        \n    for n in range(num_lines):\n        if 'lines' in sett:\n            line_colour=(dflt['stroke'] if 'stroke' not in \n                         sett['lines'][n] \n                         else sett['lines'][n]['stroke'])\n            line_width=(dflt['stroke-width'] if 'stroke-width' \n                        not in sett['lines'][n] \n                        else sett['lines'][n]['stroke-width'])\n            border_style=(dflt['border'] if 'border-style' not in \n                          sett['lines'][n] \n                          else sett['lines'][n]['border-style'])\n        else:\n            line_colour=dflt['stroke']\n            line_width=dflt['stroke-width']\n            border_style=dflt['border']\n            \n        ax.plot(df['xcol'], df['ycol_' + str(n)], linewidth=line_width, \n                color = line_colour, linestyle=border_style)\n        \n        # Legend\n        if 'legend' in sett:\n            leg_array.append(sett['lines'][n]['label'])\n            custom_lines.append(Line2D([0], [0], \n                                       color=line_colour, \n                                       lw=line_width,\n                                       linestyle=border_style)\n                               )\n    \n    if 'legend' in sett:\n        ax.legend(custom_lines, leg_array, loc=legend_loc, \n                  prop={\"size\": dflt['font-size']},\n                  ncol=len(df.columns))\n\n    # ----------------------------------------------\n    # Plot shaded areas\n    if 'shaded' in sett:\n        num_a=len(sett['shaded'].keys())\n        \n        for area in range(num_a):\n            idx=sett['shaded'][area]['lims']\n            facecolour=sett['shaded'][area]['fill']\n            zorder=(0 if 'zorder' not in sett['shaded'][area] \n                    else sett['shaded'][area]['zorder'])\n            alpha=(1 if 'alpha' not in sett['shaded'][area]\n                   else sett['shaded'][area]['alpha'])\n            \n            # Shaded area left and right bds\n            for i in range(len(idx)):\n                bd1=idx[i][0]\n                bd2=idx[i][1]\n                \n                ax.axvspan(bd1, bd2, facecolor=facecolour, \n                           edgecolor='none', alpha=alpha,\n                           zorder=zorder)\n            \n            # Shaded area label\n            if 'label' in sett['shaded'][area]:\n                rot=(0 if 'rotation' not in \n                     sett['shaded'][area]['label'] \n                     else sett['shaded'][area]['label']['rotation'])\n                label_colour=(dflt['stroke'] if 'colour' not in \n                              sett['shaded'][area]['label'] \n                              else sett['shaded'][area]['label']['colour'])\n                label_size=(dflt['font-size'] if 'font-size' not in \n                            sett['shaded'][area]['label'] \n                            else sett['shaded'][area]['label']['font-size'])\n                plt.text(                    \n                    sett['shaded'][area]['label']['x'], # x posn of label\n                    sett['shaded'][area]['label']['y'], # y posn of label\n                    sett['shaded'][area]['label']['text'], \n                    rotation=rot, \n                    color=label_colour, \n                    fontsize=label_size\n                )\n\n    return fig, ax"
      ]
    },
    {
      "cell_type": "markdown",
      "metadata": {},
      "source": [
        "## Data Collection\n\nThis Section creates example data.\n\n"
      ]
    },
    {
      "cell_type": "code",
      "execution_count": null,
      "metadata": {
        "collapsed": false
      },
      "outputs": [],
      "source": [
        "# x-axis\ndt=[datetime.date(2020, 10, 27), datetime.date(2020, 10, 28), datetime.date(2020, 10, 29), \n    datetime.date(2020, 10, 30), datetime.date(2020, 10, 31), datetime.date(2020, 11, 1), \n    datetime.date(2020, 11, 2), datetime.date(2020, 11, 3), datetime.date(2020, 11, 4), \n    datetime.date(2020, 11, 5), datetime.date(2020, 11, 6), datetime.date(2020, 11, 7), \n    datetime.date(2020, 11, 8), datetime.date(2020, 11, 9), datetime.date(2020, 11, 10), \n    datetime.date(2020, 11, 11), datetime.date(2020, 11, 12), datetime.date(2020, 11, 13), \n    datetime.date(2020, 11, 14), datetime.date(2020, 11, 15), datetime.date(2020, 11, 16), \n    datetime.date(2020, 11, 17), datetime.date(2020, 11, 18), datetime.date(2020, 11, 19), \n    datetime.date(2020, 11, 20), datetime.date(2020, 11, 21), datetime.date(2020, 11, 22), \n    datetime.date(2020, 11, 23), datetime.date(2020, 11, 24), datetime.date(2020, 11, 25), \n    datetime.date(2020, 11, 26), datetime.date(2020, 11, 27), datetime.date(2020, 11, 28), \n    datetime.date(2020, 11, 29), datetime.date(2020, 11, 30), datetime.date(2020, 12, 1), \n    datetime.date(2020, 12, 2), datetime.date(2020, 12, 3), datetime.date(2020, 12, 4), \n    datetime.date(2020, 12, 5), datetime.date(2020, 12, 6), datetime.date(2020, 12, 7), \n    datetime.date(2020, 12, 8), datetime.date(2020, 12, 9), datetime.date(2020, 12, 10), \n    datetime.date(2020, 12, 11), datetime.date(2020, 12, 12), datetime.date(2020, 12, 13)]\n\n# y-axis\n# line 1\ny1=[32512.0, 34852.0, 35136.0, 38154.0, 35551.0, 27617.0, 33677.0, 34163.0, 34606.0, 35106.0, 38034.0, 36077.0, 30372.0, 34616.0, 34264.0, 34162.0, 34891.0, 36871.0, 34465.0, 25836.0, 41818.0, 42943.0, 42199.0, 44307.0, 49460.0, 47071.0, 31263.0, 38039.0, 39162.0, 29431.0, 42445.0, 45586.0, 42333.0, 35198.0, 39244.0, 38740.0, 41345.0, 43083.0, 43299.0, 41210.0, 32797.0, 40363.0, 41577.0, 38094.0, 43813.0, 46515.0, 38156.0, 28232.0]\n\n# line 2\ny2=[38781.0, 41387.0, 40545.0, 42473.0, 35726.0, 28066.0, 36873.0, 38191.0, 39432.0, 40123.0, 42199.0, 37404.0, 32564.0, 38425.0, 40460.0, 39506.0, 39780.0, 40666.0, 34904.0, 25290.0, 35852.0, 37037.0, 36880.0, 38007.0, 40274.0, 35163.0, 23323.0, 33689.0, 35129.0, 12352.0, 36524.0, 38759.0, 32995.0, 29132.0, 33974.0, 32964.0, 35851.0, 37296.0, 36458.0, 31332.0, 26148.0, 34649.0, 35588.0, 34950.0, 36615.0, 38317.0, 29245.0, 21929.0]\n\n# line 3\ny3=[21713.0, 23644.0, 22949.0, 24473.0, 21201.0, 16189.0, 21592.0, 21946.0, 23200.0, 23324.0, 25188.0, 23107.0, 20544.0, 23035.0, 24334.0, 23354.0, 23144.0, 23411.0, 20691.0, 14232.0, 20965.0, 21615.0, 20784.0, 21851.0, 24003.0, 20617.0, 13727.0, 19809.0, 20124.0, 8755.0, 20952.0, 22788.0, 20327.0, 17183.0, 19609.0, 19223.0, 20557.0, 21295.0, 20377.0, 17362.0, 14867.0, 19576.0, 20172.0, 19520.0, 20884.0, 22209.0, 16241.0, 12449.0]\n\n# Create dataframe to be plotted\ndata = {'dt':dt, 'y1':y1, 'y2':y2, 'y3':y3}\ndf_multi = pd.DataFrame(data)"
      ]
    },
    {
      "cell_type": "markdown",
      "metadata": {},
      "source": [
        "## Example: plot data with no options\n\nThis Section plots dataframe using default settings.\n\n"
      ]
    },
    {
      "cell_type": "code",
      "execution_count": null,
      "metadata": {
        "collapsed": false
      },
      "outputs": [],
      "source": [
        "sett_empty={\n    \n}\n\nmulti_linechart(df_multi, sett_empty)"
      ]
    },
    {
      "cell_type": "markdown",
      "metadata": {},
      "source": [
        "## Example: one shaded area with legend \n\nThis Section plots dataframe with legend and one shaded area.\n\n"
      ]
    },
    {
      "cell_type": "code",
      "execution_count": null,
      "metadata": {
        "collapsed": false
      },
      "outputs": [],
      "source": [
        "sett = {\n    'body': {\n        'font-size': 16,\n        'font-family': 'sans-serif'\n    },\n    \n    # Axes labels and limits\n    'yaxis': {\n        'label': 'Daily Volume',\n        'labelsize': 18\n    },\n    'xaxis': {\n        'major_loc': {\n            'loc': mdates.DayLocator(),\n            'date_form': mdates.DateFormatter('%Y-%m-%d')\n        },\n        'minor_loc': {\n            'date_form': mdates.DayLocator(interval=1),  # every other day\n        }\n    },\n    \n    # grid\n    'major_grid_on': True,\n    'minor_grid_on': True,\n    'minor_grid': {\n        'stroke': '#D3D3D3',\n        'border': '--'\n    },\n    \n    # legend\n    'legend': {\n        'loc': 'lower left'\n    },\n\n    'lines': {\n        0: {\n            'stroke': '#1A75B5',\n            'border-style': 'solid',\n            'label': 'Vol 1'\n            },\n        1: {\n            'stroke': '#FF7F00',\n            'border-style': 'solid',\n            'label': 'Vol 2'\n            },\n        2: {\n            'stroke': '#28A026',\n            'border-style': 'dashed',\n            'label': 'Vol 3'\n            }\n    },\n    \n    'shaded': {\n        0: {\n            'lims':[[pd.to_datetime('2020-11-23'), pd.to_datetime('2020-12-22')]],\n            'fill': 'magenta',\n            'zorder':-100,\n            'alpha': 0.3,\n            'label': {\n                'x': pd.to_datetime('2020-11-23') + datetime.timedelta(days=.5),\n                'y': 51000,\n                'text': 'Lockdown 2',\n                'font-size': 14, \n                'colour': 'k',\n                'rotation': 0\n            }\n        }\n    }\n}\n\n# ----------------------------------------------------------------\n# WEIRD HACK !!!!!!!!!!!!!!!!!!!!!!!!!!!!!!!!!!!!!!!!!!!!\n# For some reason, you need to run mpl.rcParams TWICE before it \n# actually gets set. The mpl.rcParams is already specified in \n# multi_linechart() but here we run it for the second time otherwise\n# the font.family will not be updated\nif 'body' in sett:\n    if 'font-family' in sett['body']:\n        mpl.rcParams['font.family'] = sett['body']['font-family']\n        print(mpl.rcParams['font.family'])\n\nmulti_linechart(df_multi, sett)"
      ]
    },
    {
      "cell_type": "markdown",
      "metadata": {},
      "source": [
        "## Example: two shaded area blocks  \n\nThis Section plots dataframe with legend, one shaded \nblock, and shaded blocks for weekends.\n\n"
      ]
    },
    {
      "cell_type": "code",
      "execution_count": null,
      "metadata": {
        "collapsed": false
      },
      "outputs": [],
      "source": [
        "def find_weekend_indices(df):\n    '''Outputs a 2D list of weekend date pairs given date column\n    in df. Assumes first column of df is the date column. \n    Datetime pairs output in `datetime.date()` format.\n    '''\n    xcol=list(df)[0]\n    datetime_array=df[xcol]\n    \n    s = []\n    for i in range(len(datetime_array) - 1):\n        if datetime_array[i].weekday() >= 5:\n            s.append([df[xcol][i], df[xcol][i + 1]])\n\n    return s\n\nsett = {\n    'body': {\n        'font-size': 16,\n        'font-family': 'sans-serif'\n#         'font-family': 'monospace'\n#         'fontfamily-list': ['Libre Franklin', 'DejaVu Sans'],\n    },\n    \n    # Axes labels and limits\n    'yaxis': {\n        'label': 'Daily Volume'\n    },\n   'xaxis': {\n        'major_loc': {\n            'loc': mdates.DayLocator(),\n            'date_form': mdates.DateFormatter('%Y-%m-%d')\n        },\n        'minor_loc': {\n            'date_form': mdates.DayLocator(interval=1),  # every other day\n        }\n   },\n    \n    # grid\n    'major_grid_on': True,\n    'minor_grid_on': True,\n    'minor_grid': {\n        'stroke': '#D3D3D3',\n        'border': '--'\n    },\n    \n    # legend\n    'legend': {\n        'loc': 'lower left'\n    },\n\n    'lines': {\n        0: {\n            'stroke': '#1A75B5',\n            'border-style': 'solid',\n            'label': 'Vol 1'\n            },\n        1: {\n            'stroke': '#FF7F00',\n            'border-style': 'solid',\n            'label': 'Vol 2'\n            },\n        2: {\n            'stroke': '#28A026',\n            'border-style': 'dashed',\n            'label': 'Vol 3'\n            }\n    },\n    \n    'shaded': {\n        0: {\n            'lims':[[pd.to_datetime('2020-11-23'), pd.to_datetime('2020-12-22')]],\n            'fill': 'magenta',\n            'zorder':-100,\n            'alpha': 0.3,\n            'label': {\n                'x': pd.to_datetime('2020-11-23') + datetime.timedelta(days=.5),\n                'y': 51000,\n                'text': 'Lockdown 2',\n                'font-size': 12, \n                'colour': 'k',\n                'rotation': 0\n            }\n        },\n        1:{\n            'lims':find_weekend_indices(df_multi),\n            'fill': '#ccffff',\n            'alpha': 0.9 \n        }\n    }\n}\n\nif 'body' in sett:\n    if 'font-family' in sett['body']:\n        mpl.rcParams['font.family'] = sett['body']['font-family']\n        print(mpl.rcParams['font.family'])\n\nmulti_linechart(df_multi, sett)"
      ]
    }
  ],
  "metadata": {
    "kernelspec": {
      "display_name": "Python 3",
      "language": "python",
      "name": "python3"
    },
    "language_info": {
      "codemirror_mode": {
        "name": "ipython",
        "version": 3
      },
      "file_extension": ".py",
      "mimetype": "text/x-python",
      "name": "python",
      "nbconvert_exporter": "python",
      "pygments_lexer": "ipython3",
      "version": "3.7.3"
    }
  },
  "nbformat": 4,
  "nbformat_minor": 0
}