{
  "cells": [
    {
      "cell_type": "markdown",
      "metadata": {},
      "source": [
        "\n# RICK Horizontal Grouped Bar Chart\n\nExample of a horizontal grouped bar chart.\n"
      ]
    },
    {
      "cell_type": "code",
      "execution_count": null,
      "metadata": {
        "collapsed": false
      },
      "outputs": [],
      "source": [
        "import matplotlib.pyplot as plt\nimport pandas as pd \nimport rick"
      ]
    },
    {
      "cell_type": "markdown",
      "metadata": {},
      "source": [
        "## Data Collection\n\nThis Section grabs and formats the data.\n\n"
      ]
    },
    {
      "cell_type": "code",
      "execution_count": null,
      "metadata": {
        "collapsed": false
      },
      "outputs": [],
      "source": [
        "data = [[\"Scarborough\",\t4645.87, 13813.73],\n        [\"Etobicoke York\", 7212.29, 20690.60],\n        [\"North York\",\t9494.93, 24715.76],\n        [\"Toronto and East York\", 43089.61, 93547.43]]\ndistrict_cond = pd.DataFrame(data, columns=['area_name', 'count1', 'count2']).set_index('area_name')"
      ]
    },
    {
      "cell_type": "markdown",
      "metadata": {},
      "source": [
        "## Horizontal Grouped Bar Chart \n\nThis Section uses the rewritten horizontal grouped bar chart function.\n\n"
      ]
    },
    {
      "cell_type": "code",
      "execution_count": null,
      "metadata": {
        "collapsed": false
      },
      "outputs": [],
      "source": [
        "# Setting a custom plot size to prevent cropping during sphinx autogeneration.\nfig, ax = rick.charts.horizontal_grouped_bar_chart(\n    data=district_cond,\n    xlab='Trips',\n    legend=['2016', '2018'],\n    percent=True)\nfig.set_size_inches(7, 4.5)\nplt.tight_layout()\nplt.show()"
      ]
    }
  ],
  "metadata": {
    "kernelspec": {
      "display_name": "Python 3",
      "language": "python",
      "name": "python3"
    },
    "language_info": {
      "codemirror_mode": {
        "name": "ipython",
        "version": 3
      },
      "file_extension": ".py",
      "mimetype": "text/x-python",
      "name": "python",
      "nbconvert_exporter": "python",
      "pygments_lexer": "ipython3",
      "version": "3.10.12"
    }
  },
  "nbformat": 4,
  "nbformat_minor": 0
}