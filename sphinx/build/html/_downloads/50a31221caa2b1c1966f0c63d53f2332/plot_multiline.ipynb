{
  "nbformat": 4,
  "metadata": {
    "kernelspec": {
      "display_name": "Python 3",
      "name": "python3",
      "language": "python"
    },
    "language_info": {
      "version": "3.5.2",
      "codemirror_mode": {
        "version": 3,
        "name": "ipython"
      },
      "nbconvert_exporter": "python",
      "pygments_lexer": "ipython3",
      "file_extension": ".py",
      "mimetype": "text/x-python",
      "name": "python"
    }
  },
  "nbformat_minor": 0,
  "cells": [
    {
      "cell_type": "code",
      "execution_count": null,
      "outputs": [],
      "source": [
        "%matplotlib inline"
      ],
      "metadata": {
        "collapsed": false
      }
    },
    {
      "cell_type": "markdown",
      "source": [
        "\n# Multi-Line Chart\n\nExamples of multi-line charts using `multi_linechart()`. The number \nof lines to be plotted is automatically determined from the columns\nin the input dataframe. \n\n"
      ],
      "metadata": {}
    },
    {
      "cell_type": "code",
      "execution_count": null,
      "outputs": [],
      "source": [
        "from sqlalchemy import create_engine\nimport matplotlib.pyplot as plt\nimport matplotlib as mpl\nimport pandas as pd \nimport configparser\nfrom psycopg2 import connect\nimport psycopg2.sql as pg\nimport pandas.io.sql as pandasql\nimport numpy as np \nimport datetime\nimport math\nimport rick\nimport geopandas as gpd\nimport os\nimport shapely\nfrom shapely.geometry import Point\n# os.environ[\"PROJ_LIB\"]=r\"C:\\Users\\rliu4\\AppData\\Local\\Continuum\\anaconda3\\Library\\share\"\nimport importlib\nimport matplotlib.ticker as ticker\nimport matplotlib.font_manager as font_manager\nimport matplotlib.dates as mdates\nfrom matplotlib.lines import Line2D # for legend\nimport seaborn as sns\nfrom pandas.plotting import register_matplotlib_converters\nregister_matplotlib_converters()"
      ],
      "metadata": {
        "collapsed": false
      }
    },
    {
      "cell_type": "markdown",
      "source": [
        "## Source Code\n\nSource code for multi-line function.\n\n"
      ],
      "metadata": {}
    },
    {
      "cell_type": "code",
      "execution_count": null,
      "outputs": [],
      "source": [
        "def multi_linechart(df_line, sett):\n    '''Creates a line chart based on the number of columns in the input dataframe.\n\n    Parameters\n    -----------\n    df_orig : pandas dataframe\n        First column contain the x-values, subsequent column(s) contain y-values.\n    sett : dict\n        Contains optional styling and annotation specification for all visual\n        elements (axes, grid, lines, legend, title, labels). If empty, defaults\n        will be used.\n    ymax : int, optional, default is the max y value\n        The max value of the y axis\n    sett['body'] : dict key, optional\n        The body section contains global style parameters. If empty, defaults\n        will be used.\n    sett['body']['font-size'] : int, optional\n        Global font size for plot. Default 12.\n    sett['body']['font-family'] : str, optional\n        Global font family for plot. Default 'sans-serif'.\n    sett['body']['sans-serif-list'] : array, optional\n        An array of sans-serif fonts. The first font in the array that is installed\n        in the system will be used. Default 'Libre Franklin'.\n    \n    Returns \n    --------\n    fig\n        Matplotlib fig object\n    ax \n        Matplotlib ax object\n \n    ''' \n\n    df=df_line.copy()\n    \n    # ----------------------------------------------\n    # Setup the figure\n    fig, ax =plt.subplots(1)\n    fig.set_size_inches(18, 5)\n    ax = plt.gca()\n\n    return fig, ax"
      ],
      "metadata": {
        "collapsed": false
      }
    }
  ]
}