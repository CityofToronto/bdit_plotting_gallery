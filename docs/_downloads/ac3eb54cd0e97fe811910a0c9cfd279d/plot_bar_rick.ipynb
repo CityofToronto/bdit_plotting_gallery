{
  "cells": [
    {
      "execution_count": null,
      "cell_type": "code",
      "outputs": [],
      "metadata": {
        "collapsed": false
      },
      "source": [
        "%matplotlib inline"
      ]
    },
    {
      "cell_type": "markdown",
      "metadata": {},
      "source": [
        "\n# RICK Bar Chart\n\nExample bar chart from the RICK module.\n\n"
      ]
    },
    {
      "execution_count": null,
      "cell_type": "code",
      "outputs": [],
      "metadata": {
        "collapsed": false
      },
      "source": [
        "from sqlalchemy import create_engine\nimport matplotlib.pyplot as plt\nimport matplotlib as mpl\nimport pandas as pd \nimport configparser\nfrom psycopg2 import connect\nimport psycopg2.sql as pg\nimport pandas.io.sql as pandasql\nimport numpy as np \nimport datetime\nimport math\nimport rick\nimport geopandas as gpd\nimport os\nimport shapely\nfrom shapely.geometry import Point\nos.environ[\"PROJ_LIB\"]=r\"C:\\Users\\rliu4\\AppData\\Local\\Continuum\\anaconda3\\Library\\share\"\nimport importlib\nimport matplotlib.ticker as ticker\nimport matplotlib.font_manager as font_manager"
      ]
    },
    {
      "cell_type": "markdown",
      "metadata": {},
      "source": [
        "## Data Collection\n\nThis creates a test dataframe to use\n\n"
      ]
    },
    {
      "execution_count": null,
      "cell_type": "code",
      "outputs": [],
      "metadata": {
        "collapsed": false
      },
      "source": [
        "pass_data = {'cat': ['PTC','Taxi',  'Trip Making Population'],\n        'TTC Pass': [22,16,16],\n        }\n\ntransit_pass = pd.DataFrame(pass_data,columns= ['cat', 'TTC Pass'])\ntransit_pass  = transit_pass .reindex(index=transit_pass .index[::-1])\n\nfig, ax = rick.charts.bar_chart(transit_pass, xlab='Trips')"
      ]
    }
  ],
  "nbformat_minor": 0,
  "metadata": {
    "kernelspec": {
      "name": "python3",
      "language": "python",
      "display_name": "Python 3"
    },
    "language_info": {
      "mimetype": "text/x-python",
      "file_extension": ".py",
      "name": "python",
      "nbconvert_exporter": "python",
      "pygments_lexer": "ipython3",
      "codemirror_mode": {
        "name": "ipython",
        "version": 3
      },
      "version": "3.5.2"
    }
  },
  "nbformat": 4
}