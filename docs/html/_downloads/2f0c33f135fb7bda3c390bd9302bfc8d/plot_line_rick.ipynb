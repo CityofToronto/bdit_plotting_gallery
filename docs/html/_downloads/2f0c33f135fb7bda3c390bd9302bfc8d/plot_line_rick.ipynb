{
  "nbformat": 4,
  "metadata": {
    "kernelspec": {
      "name": "python3",
      "display_name": "Python 3",
      "language": "python"
    },
    "language_info": {
      "name": "python",
      "version": "3.5.2",
      "mimetype": "text/x-python",
      "nbconvert_exporter": "python",
      "pygments_lexer": "ipython3",
      "file_extension": ".py",
      "codemirror_mode": {
        "name": "ipython",
        "version": 3
      }
    }
  },
  "cells": [
    {
      "execution_count": null,
      "source": [
        "%matplotlib inline"
      ],
      "metadata": {
        "collapsed": false
      },
      "cell_type": "code",
      "outputs": []
    },
    {
      "source": [
        "\n# RICK Line Chart\n\nExample line chart from the RICK package, with an additional baseline plot and custom formatted x axis.\n\n"
      ],
      "metadata": {},
      "cell_type": "markdown"
    },
    {
      "execution_count": null,
      "source": [
        "from sqlalchemy import create_engine\nimport matplotlib.pyplot as plt\nimport matplotlib as mpl\nimport pandas as pd \nimport configparser\nfrom psycopg2 import connect\nimport psycopg2.sql as pg\nimport pandas.io.sql as pandasql\nimport numpy as np \nimport datetime\nimport math\nimport rick\nimport geopandas as gpd\nimport os\nimport shapely\nfrom shapely.geometry import Point\nos.environ[\"PROJ_LIB\"]=r\"C:\\Users\\rliu4\\AppData\\Local\\Continuum\\anaconda3\\Library\\share\"\nimport importlib\nimport matplotlib.ticker as ticker\nimport matplotlib.font_manager as font_manager\n\n\nCONFIG = configparser.ConfigParser()\n# CONFIG.read(r'C:\\Users\\rliu4\\Documents\\Python\\config.cfg')\nCONFIG.read(r'/home/cnangini/db.cfg')\ndbset = CONFIG['DBSETTINGS']\ncon = connect(**dbset)"
      ],
      "metadata": {
        "collapsed": false
      },
      "cell_type": "code",
      "outputs": []
    },
    {
      "source": [
        "## Data Collection\n\nThis Section grabs and formats the data.\n\n"
      ],
      "metadata": {},
      "cell_type": "markdown"
    },
    {
      "execution_count": null,
      "source": [
        "query='''\nWITH daily_ave AS (\n   SELECT * FROM ptc.daily_trips\n), total AS  (\nSELECT  extract(month from dt) as mon,\nextract(year from dt) as yr,\n\nCASE WHEN extract(year from dt) = 2018 AND extract(month from dt) IN (3) THEN 108321\nWHEN extract(year from dt) = 2018 AND extract(month from dt) IN (11) THEN 161733 ELSE\navg(count)::integer END as count FROM daily_ave\nGROUP BY extract(month from dt), extract(year from dt)\nORDER BY extract(year from dt), extract(month from dt)\n)\n\nSELECT \nCASE WHEN mon = 1 THEN to_char(to_timestamp (mon::text, 'MM'), 'Mon')||' '||yr::text \nWHEN mon = 9 AND yr = 2016 THEN to_char(to_timestamp (mon::text, 'MM'), 'Mon')||' '||yr::text \nELSE to_char(to_timestamp (mon::text, 'MM'), 'Mon')\nEND AS period, \ncount FROM total\n'''\ntotal=pandasql.read_sql(query, con)"
      ],
      "metadata": {
        "collapsed": false
      },
      "cell_type": "code",
      "outputs": []
    },
    {
      "source": [
        "Gets the baseline data (to be graphed in grey)\n\n"
      ],
      "metadata": {},
      "cell_type": "markdown"
    },
    {
      "execution_count": null,
      "source": [
        "query='''\nWITH daily_ave AS (\nSELECT * FROM ptc.daily_trips\n), total AS  (\nSELECT  extract(month from dt) as mon,\nEXTRACT(year from dt) as yr,\nCASE WHEN extract(year from dt) = 2018 AND extract(month from dt) IN (3) THEN 108321\nWHEN extract(year from dt) = 2018 AND extract(month from dt) IN (11) THEN 161733 ELSE\nAVG(count)::integer END AS count FROM daily_ave\nGROUP BY EXTRACT(month from dt), EXTRACT(year from dt)\nORDER BY EXTRACT(year from dt), EXTRACT(month from dt)\n)\nSELECT \nCASE WHEN mon = 1 THEN to_char(to_timestamp (mon::text, 'MM'), 'Mon')||' '||yr::text \nWHEN mon = 9 AND yr = 2016 THEN to_char(to_timestamp (mon::text, 'MM'), 'Mon')||' '||yr::text \nELSE to_char(to_timestamp (mon::text, 'MM'), 'Mon')\nEND AS period, \ncount/2 AS count FROM total\n'''\ntotal2=pandasql.read_sql(query, con)\n\nfig, ax, props = rick.charts.line_chart(total['count'], 'Trips', 'Time', baseline = total2['count'])"
      ],
      "metadata": {
        "collapsed": false
      },
      "cell_type": "code",
      "outputs": []
    },
    {
      "source": [
        "Adds annotations\n\n"
      ],
      "metadata": {},
      "cell_type": "markdown"
    },
    {
      "execution_count": null,
      "source": [
        "fig.text(0.94, 0.96, '176,000', transform=ax.transAxes, wrap = True, fontsize=9, fontname = 'Libre Franklin',\n         verticalalignment='top', ha = 'center', bbox=props, color = '#660159')"
      ],
      "metadata": {
        "collapsed": false
      },
      "cell_type": "code",
      "outputs": []
    },
    {
      "source": [
        "Adds custom x axis\n\n"
      ],
      "metadata": {},
      "cell_type": "markdown"
    },
    {
      "execution_count": null,
      "source": [
        "month_lst2 = ['Sept\\n2016',  'Jan\\n2017',  'May',  'Sept',\n               'Jan\\n2018', 'May',  'Sept', \n              'Jan\\n2019','May',]\nplt.xticks(range(0,35,4), month_lst2, fontsize=9, fontname = 'Libre Franklin')"
      ],
      "metadata": {
        "collapsed": false
      },
      "cell_type": "code",
      "outputs": []
    }
  ],
  "nbformat_minor": 0
}