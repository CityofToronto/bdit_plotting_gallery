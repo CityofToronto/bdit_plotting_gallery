{
  "cells": [
    {
      "cell_type": "markdown",
      "metadata": {},
      "source": [
        "\n# RICK Vertical Grouped Bar Chart\n\nExample of a vertical grouped bar chart.\n"
      ]
    },
    {
      "cell_type": "code",
      "execution_count": null,
      "metadata": {
        "collapsed": false
      },
      "outputs": [],
      "source": [
        "import numpy as np\nimport matplotlib.pyplot as plt\nimport pandas as pd \nimport rick"
      ]
    },
    {
      "cell_type": "markdown",
      "metadata": {},
      "source": [
        "## Data Collection\n\nThis Section grabs and formats the data.\n\n"
      ]
    },
    {
      "cell_type": "code",
      "execution_count": null,
      "metadata": {
        "collapsed": false
      },
      "outputs": [],
      "source": [
        "np.random.seed(42)\ndata = {\n    'Category': ['A', 'B', 'C', 'D'],\n    'Group1': np.random.randint(10, 50, 4),\n    'Group2': np.random.randint(20, 60, 4)\n}\ndf = pd.DataFrame(data)\ndf = df.set_index('Category')"
      ]
    },
    {
      "cell_type": "markdown",
      "metadata": {},
      "source": [
        "## Vertical Grouped Bar Chart\n\nThis Section uses the new vertical grouped bar chart function.\n\n"
      ]
    },
    {
      "cell_type": "code",
      "execution_count": null,
      "metadata": {
        "collapsed": false
      },
      "outputs": [],
      "source": [
        "# Setting a custom plot_size to prevent cropping during sphinx autogeneration.\nplot_size = (len(df)*1.5*0.9, 6.1*0.9)\nfig, ax = rick.charts.vertical_grouped_bar_chart(\n    data=df,\n    precision=1,\n    xlab='Group',\n    ylab='Category',\n    percent=True,\n    legend=['Group1', 'Group2'])\nplt.show()"
      ]
    }
  ],
  "metadata": {
    "kernelspec": {
      "display_name": "Python 3",
      "language": "python",
      "name": "python3"
    },
    "language_info": {
      "codemirror_mode": {
        "name": "ipython",
        "version": 3
      },
      "file_extension": ".py",
      "mimetype": "text/x-python",
      "name": "python",
      "nbconvert_exporter": "python",
      "pygments_lexer": "ipython3",
      "version": "3.10.12"
    }
  },
  "nbformat": 4,
  "nbformat_minor": 0
}