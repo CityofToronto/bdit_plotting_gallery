{
  "nbformat": 4,
  "metadata": {
    "kernelspec": {
      "name": "python3",
      "display_name": "Python 3",
      "language": "python"
    },
    "language_info": {
      "name": "python",
      "version": "3.5.2",
      "mimetype": "text/x-python",
      "nbconvert_exporter": "python",
      "pygments_lexer": "ipython3",
      "file_extension": ".py",
      "codemirror_mode": {
        "name": "ipython",
        "version": 3
      }
    }
  },
  "cells": [
    {
      "execution_count": null,
      "source": [
        "%matplotlib inline"
      ],
      "metadata": {
        "collapsed": false
      },
      "cell_type": "code",
      "outputs": []
    },
    {
      "source": [
        "\n# RICK Choropleth Map\n\nExample chloropleth map.\n\n"
      ],
      "metadata": {},
      "cell_type": "markdown"
    },
    {
      "execution_count": null,
      "source": [
        "from sqlalchemy import create_engine\nimport matplotlib.pyplot as plt\nimport matplotlib as mpl\nimport pandas as pd \nimport configparser\nfrom psycopg2 import connect\nimport psycopg2.sql as pg\nimport pandas.io.sql as pandasql\nimport numpy as np \nimport datetime\nimport math\nimport rick\nimport geopandas as gpd\nimport os\nimport shapely\nfrom shapely.geometry import Point\nos.environ[\"PROJ_LIB\"]=r\"C:\\Users\\rliu4\\AppData\\Local\\Continuum\\anaconda3\\Library\\share\"\nimport importlib\nimport matplotlib.ticker as ticker\nimport matplotlib.font_manager as font_manager\n\nCONFIG = configparser.ConfigParser()\n# CONFIG.read(r'C:\\Users\\rliu4\\Documents\\Python\\config.cfg')\nCONFIG.read(r'/home/cnangini/db.cfg')\ndbset = CONFIG['DBSETTINGS']\ncon = connect(**dbset)"
      ],
      "metadata": {
        "collapsed": false
      },
      "cell_type": "code",
      "outputs": []
    },
    {
      "source": [
        "## Data Collection\n\nThis Section grabs and formats the data.\n\n"
      ],
      "metadata": {},
      "cell_type": "markdown"
    },
    {
      "execution_count": null,
      "source": [
        "query = '''\n\nWITH sum AS (\nSELECT extract(month from pickup_datetime) as mon, extract(year from pickup_datetime) as yr, extract(week from pickup_datetime) as wk, pickup_neighbourhood, \nsum(count) as count  FROM ptc.trip_data_agg_neighbourhood\nGROUP BY   pickup_datetime, pickup_neighbourhood\n\n), ward1 AS  (\n\nSELECT  avg(count) as count, pickup_neighbourhood from sum\nWHERE (yr=2018 AND mon IN (9))\nGROUP BY pickup_neighbourhood\nORDER BY count\n), ward2 AS  (\n\nSELECT avg(count) as count, pickup_neighbourhood from sum\nWHERE (yr=2016 AND mon IN (10))\nGROUP BY pickup_neighbourhood\nORDER BY count\n)\n\nSELECT pickup_neighbourhood,  geom, (b.count - a.count)/(a.count)*100 as growth FROM ward2 a \nLEFT JOIN ward1 b USING ( pickup_neighbourhood)\nLEFT JOIN gis.neighbourhood ON area_s_cd::integer=pickup_neighbourhood\n\n'''"
      ],
      "metadata": {
        "collapsed": false
      },
      "cell_type": "code",
      "outputs": []
    },
    {
      "source": [
        "Rotates data 17 degrees to orient Toronto perpendicularly\n\n"
      ],
      "metadata": {},
      "cell_type": "markdown"
    },
    {
      "execution_count": null,
      "source": [
        "data = gpd.GeoDataFrame.from_postgis(query, con, geom_col='geom')\n# data = data.to_crs({'init' :'epsg:3857'})\ndata = data.to_crs(epsg=3857)\n\n## Below doesn't work because one row is MULTIPOLYGON and the\n## other rows are POLYGON\n# for index, row in data.iterrows():\n#     rotated = shapely.affinity.rotate(row['geom'], angle=-17, origin = Point(0, 0))\n#     data.at[index, 'geom'] = rotated\ndata['geom']=data['geom'].apply(lambda x: shapely.affinity.rotate(x, angle=-17, origin = Point(0, 0)))"
      ],
      "metadata": {
        "collapsed": false
      },
      "cell_type": "code",
      "outputs": []
    },
    {
      "source": [
        "The function only needs these columns, in this order\n\n"
      ],
      "metadata": {},
      "cell_type": "markdown"
    },
    {
      "execution_count": null,
      "source": [
        "data=data[['geom', 'growth']]"
      ],
      "metadata": {
        "collapsed": false
      },
      "cell_type": "code",
      "outputs": []
    },
    {
      "source": [
        "Calls the Function\n\n\n\n\n"
      ],
      "metadata": {},
      "cell_type": "markdown"
    },
    {
      "execution_count": null,
      "source": [
        "fig, ax = rick.charts.chloro_map(con, data, subway = True, lower = 0, upper = 300, title = 'Growth in Trips', \n                                       island = False,  unit = '%', nbins = 3)"
      ],
      "metadata": {
        "collapsed": false
      },
      "cell_type": "code",
      "outputs": []
    }
  ],
  "nbformat_minor": 0
}