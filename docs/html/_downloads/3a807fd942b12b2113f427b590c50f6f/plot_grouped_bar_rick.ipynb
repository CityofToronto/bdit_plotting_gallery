{
  "cells": [
    {
      "cell_type": "markdown",
      "metadata": {},
      "source": [
        "\n# RICK Grouped Bar Chart\n\nExample of a horizontal grouped bar chart.\n"
      ]
    },
    {
      "cell_type": "code",
      "execution_count": null,
      "metadata": {
        "collapsed": false
      },
      "outputs": [],
      "source": [
        "import matplotlib.pyplot as plt\nimport matplotlib as mpl\nimport pandas as pd \nimport pandas.io.sql as pandasql\nimport numpy as np \nimport datetime\nimport math\nimport rick\nimport geopandas as gpd\nimport os\nimport shapely\nfrom shapely.geometry import Point\n#os.environ[\"PROJ_LIB\"]=r\"C:\\Users\\rliu4\\AppData\\Local\\Continuum\\anaconda3\\Library\\share\"\nimport importlib\nimport matplotlib.ticker as ticker\nimport matplotlib.font_manager as font_manager\n\nimport sqlalchemy\nfrom sqlalchemy import URL, create_engine\nimport configparser\n\n\nconfig = configparser.ConfigParser()\nconfig.read('/data/home/mgoula/plotting_gallery/bdit_plotting_gallery/dbsettings.cfg')\nconnect_url = URL.create(\"postgresql+psycopg2\", **config['DBSETTINGS'])\nengine = create_engine(connect_url)"
      ]
    },
    {
      "cell_type": "markdown",
      "metadata": {},
      "source": [
        "## Data Collection\n\nThis Section grabs and formats the data.\n\n"
      ]
    },
    {
      "cell_type": "code",
      "execution_count": null,
      "metadata": {
        "collapsed": false
      },
      "outputs": [],
      "source": [
        "query = '''\n\nWITH sum AS (\n\nSELECT pickup_datetime, sum(count) as count, extract(month from pickup_datetime) as mon, extract(year from pickup_datetime) as yr, area_name FROM ptc.trip_data_agg_ward_25\nLEFT JOIN gis.ward_community_lookup ON pickup_ward2018 = area_short\n\nWHERE pickup_datetime > '2016-09-30'\nGROUP BY pickup_datetime, area_name\n), collect AS (\nSELECT area_name, avg(count) as count, mon, yr from sum\ngroup by area_name,  mon, yr)\n\n,tot1 AS (\n\nSELECT area_name, avg(count) as count FROM collect\nWHERE (yr =2016 AND mon IN (10))\nGROUP BY area_name\n), tot2 AS (\n\nSELECT area_name, avg(count) as count FROM collect\nWHERE (yr =2018 AND mon IN (9)) \nGROUP BY area_name\n)\nSELECT SPLIT_PART(area_name, 'Community', 1) as area_name,\nb.count as count1, a.count as count2 FROM tot1 b\nLEFT JOIN tot2 a USING (area_name)\nORDER BY count1 ASC\n'''\n\nwith engine.begin() as pg_conn:\n    district_cond = pd.read_sql(query, engine)\n\nfig, ax = rick.charts.stacked_chart(district_cond, xlab = 'Trips', lab1 = '2016', lab2 = '2018', percent = True)\nfig.tight_layout()\nplt.show()"
      ]
    },
    {
      "cell_type": "markdown",
      "metadata": {},
      "source": [
        "## Horizontal Grouped Bar Chart \n\nThis Section uses the rewritten horizontal grouped bar chart function.\n\n"
      ]
    },
    {
      "cell_type": "code",
      "execution_count": null,
      "metadata": {
        "collapsed": false
      },
      "outputs": [],
      "source": [
        "fig, ax = rick.charts.horizontal_grouped_bar_chart(district_cond.set_index('area_name'), xlab = 'Trips', legend=['2016', '2018'], percent = True)\nfig.tight_layout()\nplt.show()"
      ]
    },
    {
      "cell_type": "markdown",
      "metadata": {},
      "source": [
        "## Vertical Grouped Bar Chart\n\nThis Section uses the new vertical grouped bar chart function with a dummy dataframe.\n\n"
      ]
    },
    {
      "cell_type": "code",
      "execution_count": null,
      "metadata": {
        "collapsed": false
      },
      "outputs": [],
      "source": [
        "np.random.seed(42)\ndata = {\n    'Category': ['A', 'B', 'C', 'D'],\n    'Group1': np.random.randint(10, 50, 4),\n    'Group2': np.random.randint(20, 60, 4)\n}\ndf = pd.DataFrame(data)\ndf = df.set_index('Category')\n\nfig, ax = rick.charts.vertical_grouped_bar_chart(data=df, precision=1, xlab='Group', ylab='Category', percent=True, legend=['Group1', 'Group2'])\nfig.tight_layout()\nplt.show()"
      ]
    }
  ],
  "metadata": {
    "kernelspec": {
      "display_name": "Python 3",
      "language": "python",
      "name": "python3"
    },
    "language_info": {
      "codemirror_mode": {
        "name": "ipython",
        "version": 3
      },
      "file_extension": ".py",
      "mimetype": "text/x-python",
      "name": "python",
      "nbconvert_exporter": "python",
      "pygments_lexer": "ipython3",
      "version": "3.10.12"
    }
  },
  "nbformat": 4,
  "nbformat_minor": 0
}