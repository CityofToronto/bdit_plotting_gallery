{
  "nbformat": 4,
  "metadata": {
    "kernelspec": {
      "name": "python3",
      "display_name": "Python 3",
      "language": "python"
    },
    "language_info": {
      "name": "python",
      "version": "3.5.2",
      "mimetype": "text/x-python",
      "nbconvert_exporter": "python",
      "pygments_lexer": "ipython3",
      "file_extension": ".py",
      "codemirror_mode": {
        "name": "ipython",
        "version": 3
      }
    }
  },
  "cells": [
    {
      "execution_count": null,
      "source": [
        "%matplotlib inline"
      ],
      "metadata": {
        "collapsed": false
      },
      "cell_type": "code",
      "outputs": []
    },
    {
      "source": [
        "\n# RICK Grouped Bar Chart\n\nExample of a horizontal grouped bar chart.\n\n"
      ],
      "metadata": {},
      "cell_type": "markdown"
    },
    {
      "execution_count": null,
      "source": [
        "from sqlalchemy import create_engine\nimport matplotlib.pyplot as plt\nimport matplotlib as mpl\nimport pandas as pd \nimport configparser\nfrom psycopg2 import connect\nimport psycopg2.sql as pg\nimport pandas.io.sql as pandasql\nimport numpy as np \nimport datetime\nimport math\nimport rick\nimport geopandas as gpd\nimport os\nimport shapely\nfrom shapely.geometry import Point\nos.environ[\"PROJ_LIB\"]=r\"C:\\Users\\rliu4\\AppData\\Local\\Continuum\\anaconda3\\Library\\share\"\nimport importlib\nimport matplotlib.ticker as ticker\nimport matplotlib.font_manager as font_manager\n\n\nCONFIG = configparser.ConfigParser()\n# CONFIG.read(r'C:\\Users\\rliu4\\Documents\\Python\\config.cfg')\nCONFIG.read(r'/home/cnangini/db.cfg')\ndbset = CONFIG['DBSETTINGS']\ncon = connect(**dbset)"
      ],
      "metadata": {
        "collapsed": false
      },
      "cell_type": "code",
      "outputs": []
    },
    {
      "source": [
        "## Data Collection\n\nThis Section grabs and formats the data.\n\n"
      ],
      "metadata": {},
      "cell_type": "markdown"
    },
    {
      "execution_count": null,
      "source": [
        "query = ''' \n\nWITH sum AS (\n\nSELECT pickup_datetime, sum(count) as count, extract(month from pickup_datetime) as mon, extract(year from pickup_datetime) as yr, area_name FROM ptc.trip_data_agg_ward_25\nLEFT JOIN gis.ward_community_lookup ON pickup_ward2018 = area_short\n\nWHERE pickup_datetime > '2016-09-30'\nGROUP BY pickup_datetime, area_name\n), collect AS (\nSELECT area_name, avg(count) as count, mon, yr from sum\ngroup by area_name,  mon, yr)\n\n,tot1 AS (\n\nSELECT area_name, avg(count) as count FROM collect\nWHERE (yr =2016 AND mon IN (10))\nGROUP BY area_name\n), tot2 AS (\n\nSELECT area_name, avg(count) as count FROM collect\nWHERE (yr =2018 AND mon IN (9)) \nGROUP BY area_name\n)\nSELECT SPLIT_PART(area_name, 'Community', 1) as area_name,\nb.count as count1, a.count as count2 FROM tot1 b\nLEFT JOIN tot2 a USING (area_name)\nORDER BY count1 ASC\n'''\n\ndistrict_cond = pandasql.read_sql(query, con)\n\nfig, ax = rick.charts.stacked_chart(district_cond, xlab = 'Trips', lab1 = '2016', lab2 = '2018', percent = True)"
      ],
      "metadata": {
        "collapsed": false
      },
      "cell_type": "code",
      "outputs": []
    }
  ],
  "nbformat_minor": 0
}